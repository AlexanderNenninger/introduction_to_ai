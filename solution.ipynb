{
 "cells": [
  {
   "cell_type": "code",
   "execution_count": 2,
   "metadata": {},
   "outputs": [],
   "source": [
    "import pandas as pd\n",
    "import matplotlib.pyplot as plt"
   ]
  },
  {
   "cell_type": "markdown",
   "metadata": {},
   "source": [
    "# Data Science Hands-On\n",
    "\n",
    "## Steps\n",
    "\n",
    "### Import\n",
    "First, we need to load our data from whereever it is stored. Typically these are CSV files, relational databases, or folder structures. In this step, we need to decide, which data we want to use, how to map this data into a Python data structure. We also verify completeness, check for logical errors, etc. If necessary, we request additional metadata, like column descriptions, measurement units, etc.\n",
    "### Exploration\n",
    "### Cleaning\n",
    "### Transformation\n",
    "### Feature Engineering\n",
    "### Model Training\n",
    "### Model Evaluation"
   ]
  },
  {
   "cell_type": "code",
   "execution_count": null,
   "metadata": {},
   "outputs": [],
   "source": []
  },
  {
   "cell_type": "markdown",
   "metadata": {},
   "source": []
  }
 ],
 "metadata": {
  "interpreter": {
   "hash": "bb3fd4630ad1fcd40bc3bf8c100672ac8a13ae39fb9c88ccbc510518b4de0f1f"
  },
  "kernelspec": {
   "display_name": "Python 3.9.12 ('env': venv)",
   "language": "python",
   "name": "python3"
  },
  "language_info": {
   "codemirror_mode": {
    "name": "ipython",
    "version": 3
   },
   "file_extension": ".py",
   "mimetype": "text/x-python",
   "name": "python",
   "nbconvert_exporter": "python",
   "pygments_lexer": "ipython3",
   "version": "3.7.10"
  },
  "orig_nbformat": 4
 },
 "nbformat": 4,
 "nbformat_minor": 2
}
